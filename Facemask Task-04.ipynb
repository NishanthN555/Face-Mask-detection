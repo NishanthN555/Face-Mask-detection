{
 "cells": [
  {
   "cell_type": "code",
   "execution_count": 1,
   "id": "33a4dc2f",
   "metadata": {},
   "outputs": [],
   "source": [
    "import tensorflow as tf\n",
    "import cv2\n",
    "import numpy\n",
    "from tensorflow.keras.models import load_model"
   ]
  },
  {
   "cell_type": "code",
   "execution_count": 2,
   "id": "b647f62b",
   "metadata": {},
   "outputs": [],
   "source": [
    "detector = load_model('facemask.model')\n",
    "cap = cv2.VideoCapture(0) \n",
    "classifier = cv2.CascadeClassifier(\"haarcascade_frontalface_default.xml\")"
   ]
  },
  {
   "cell_type": "code",
   "execution_count": 3,
   "id": "36719598",
   "metadata": {},
   "outputs": [
    {
     "name": "stdout",
     "output_type": "stream",
     "text": [
      "1 0.2004840411245823\n",
      "1 0.2707716543227434\n",
      "0 0.27136204298585653\n",
      "0 0.2713620662689209\n",
      "0 0.27136208955198526\n",
      "0 0.27136208955198526\n",
      "0 0.27136208955198526\n",
      "0 0.27136208955198526\n",
      "0 0.27136208955198526\n",
      "0 0.27136208955198526\n",
      "0 0.27136208955198526\n",
      "0 0.27136208955198526\n",
      "0 0.27136208955198526\n",
      "0 0.27136208955198526\n",
      "0 0.27136208955198526\n",
      "0 0.27136208955198526\n",
      "0 0.27125063352286816\n",
      "0 0.27136208955198526\n",
      "0 0.27136208955198526\n",
      "0 0.27136208955198526\n",
      "0 0.27136208955198526\n",
      "0 0.27136208955198526\n",
      "0 0.27136208955198526\n",
      "0 0.27136208955198526\n",
      "1 0.270539871416986\n",
      "1 0.27136208955198526\n",
      "1 0.27136208955198526\n",
      "1 0.27134709525853395\n",
      "1 0.27136208955198526\n",
      "1 0.27136208955198526\n",
      "1 0.27136208955198526\n",
      "1 0.27136208955198526\n",
      "1 0.27136208955198526\n",
      "1 0.27136208955198526\n",
      "1 0.27136208955198526\n",
      "1 0.27136208955198526\n",
      "1 0.27136208955198526\n",
      "1 0.27136208955198526\n",
      "1 0.27136208955198526\n",
      "1 0.27136208955198526\n",
      "1 0.27136208955198526\n",
      "1 0.27136208955198526\n",
      "1 0.27136208955198526\n",
      "1 0.27136208955198526\n"
     ]
    }
   ],
   "source": [
    "while True:\n",
    "    (success, frame) = cap.read()  \n",
    "    new_image = cv2.resize(frame, (frame.shape[1] // 1, frame.shape[0] // 1))\n",
    "    face = classifier.detectMultiScale(new_image) \n",
    "    for x,y,w,h in face:\n",
    "        try:\n",
    "            face_img = new_image[y:x+h, x:x+w] \n",
    "            resized= cv2.resize(face_img,(224,224))\n",
    "            image_array = tf.keras.preprocessing.image.img_to_array(resized)\n",
    "            image_array = tf.expand_dims(image_array,0) \n",
    "            predictions = detector.predict(image_array) \n",
    "            score = tf.nn.softmax(predictions[0])\n",
    "            label = numpy.argmax(score)\n",
    "            print(numpy.argmax(score), 100*numpy.max(score))\n",
    "        except Exception as e:\n",
    "            print('BAD OUTPUT')\n",
    "            \n",
    "        if label == 0:\n",
    "            cv2.rectangle(new_image,(x,y),(x+w,y+h),(0,255,0),2)\n",
    "            cv2.putText(new_image,\"Mask\",(x,y),cv2.FONT_HERSHEY_SIMPLEX,0.8,(0,255,0), 2)\n",
    "        elif label == 1:\n",
    "            cv2.rectangle(new_image,(x,y),(x+w,y+h),(0,0,255),2)\n",
    "            cv2.putText(new_image,'No Mask',(x,y),cv2.FONT_HERSHEY_SIMPLEX,0.8,(0,0,255), 2)\n",
    "        else:\n",
    "            None\n",
    "    cv2.imshow('OUTPUT', new_image)\n",
    "    key = cv2.waitKey(10) \n",
    "    if key == ord('q'):\n",
    "        break\n",
    "cap.release()\n",
    "cv2.destroyAllWindows()"
   ]
  }
 ],
 "metadata": {
  "kernelspec": {
   "display_name": "Python 3",
   "language": "python",
   "name": "python3"
  },
  "language_info": {
   "codemirror_mode": {
    "name": "ipython",
    "version": 3
   },
   "file_extension": ".py",
   "mimetype": "text/x-python",
   "name": "python",
   "nbconvert_exporter": "python",
   "pygments_lexer": "ipython3",
   "version": "3.6.2"
  }
 },
 "nbformat": 4,
 "nbformat_minor": 5
}
